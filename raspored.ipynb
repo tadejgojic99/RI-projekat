{
 "cells": [
  {
   "cell_type": "code",
   "execution_count": 1,
   "metadata": {},
   "outputs": [],
   "source": [
    "import numpy as np\n",
    "import random\n",
    "import copy"
   ]
  },
  {
   "cell_type": "code",
   "execution_count": 2,
   "metadata": {},
   "outputs": [],
   "source": [
    "class Individual:\n",
    "    \n",
    "    def __init__(self, mentoriZauzetost, zeljeStudenata):\n",
    "        self.mentoriZauzetost = copy.deepcopy(mentoriZauzetost)\n",
    "        self.zeljeStudenata = copy.deepcopy(zeljeStudenata)\n",
    "        self.brMentora = len(mentoriZauzetost)\n",
    "        self.brStudenata = len(zeljeStudenata)\n",
    "        self.maxBrojStudenata = sum(mentoriZauzetost)\n",
    "        \n",
    "        if self.maxBrojStudenata < self.brStudenata:\n",
    "            print('Kapaciteti popunjeni! Nije moguce dodeliti mentora svakom studentu!')\n",
    "        \n",
    "        studenti = [i for i in range(0, self.maxBrojStudenata)]\n",
    "        random.shuffle(studenti)\n",
    "        mentori = []\n",
    "        br=0\n",
    "        for i in range(self.brMentora):\n",
    "            for j in range(self.mentoriZauzetost[i]):\n",
    "                if br + j > self.brStudenata:\n",
    "                    break\n",
    "                mentori.append(i)\n",
    "            br += j\n",
    "        self.code = []\n",
    "        for i in range(self.brStudenata):\n",
    "            self.code.append((studenti[i], mentori[i]))\n",
    "        self.fitness = self.fitnessFunction()\n",
    "        \n",
    "    def fitnessFunction(self):\n",
    "        val = 0\n",
    "        for i in range(self.brStudenata):\n",
    "            val += self.geneFitness(i)\n",
    "        return val\n",
    "    \n",
    "    def geneFitness(self, i):\n",
    "        (student, mentor) = self.code[i]\n",
    "        return self.zeljeStudenata[student][mentor]\n",
    "    \n",
    "    def __lt__(self, other):\n",
    "        return self.fitness < other.fitness"
   ]
  },
  {
   "cell_type": "code",
   "execution_count": 3,
   "metadata": {},
   "outputs": [],
   "source": [
    "def mutation(individual, mutation_rate):\n",
    "    \n",
    "    if random.uniform(0,1) < mutation_rate:\n",
    "        i = random.randrange(individual.brStudenata)\n",
    "        j = random.randrange(individual.brStudenata)\n",
    "        tmp = individual.code[i][0]\n",
    "        individual.code[i] = (individual.code[j][0], individual.code[i][1])\n",
    "        individual.code[j] = (tmp, individual.code[j][1])\n",
    "    "
   ]
  },
  {
   "cell_type": "code",
   "execution_count": 4,
   "metadata": {},
   "outputs": [],
   "source": [
    "def selection(population, tournament_size):\n",
    "    val = float('inf')\n",
    "    bestInd = -1\n",
    "    for _ in range(tournament_size):\n",
    "        i = random.randrange(len(population))\n",
    "        if population[i].fitness < val:\n",
    "            val = population[i].fitness\n",
    "            bestInd = i\n",
    "    return bestInd"
   ]
  },
  {
   "cell_type": "code",
   "execution_count": 5,
   "metadata": {},
   "outputs": [],
   "source": [
    "def crossover(parent1, parent2, child1):\n",
    "    \n",
    "    n = parent1.brStudenata\n",
    "    dodeljeni = set()\n",
    "    nisuDodeljenji = set()\n",
    "    for i in range(n):\n",
    "        nisuDodeljenji.add(parent1.code[i][0])\n",
    "    for i in range(n):\n",
    "        child1.code[i] = (-1, child1.code[i][1])\n",
    "    for i in range(n):\n",
    "        if parent1.geneFitness(i) < parent2.geneFitness(i) and parent1.code[i][0] not in dodeljeni:\n",
    "            child1.code[i] = (parent1.code[i][0], child1.code[i][1])\n",
    "            dodeljeni.add(child1.code[i][0])\n",
    "            nisuDodeljenji.remove(child1.code[i][0])\n",
    "        elif parent1.geneFitness(i) > parent2.geneFitness(i) and parent2.code[i][0] not in dodeljeni:\n",
    "            child1.code[i] = (parent2.code[i][0], child1.code[i][1])\n",
    "            dodeljeni.add(child1.code[i][0])\n",
    "            nisuDodeljenji.remove(child1.code[i][0])\n",
    "    for i in range(n):\n",
    "        if child1.code[i][0] == -1:\n",
    "           \n",
    "            child1.code[i] = (random.sample(nisuDodeljenji, 1)[0], child1.code[i][1])\n",
    "            \n",
    "            nisuDodeljenji.remove(child1.code[i][0])\n",
    "    child1.fitness = child1.fitnessFunction()\n",
    "    if child1.fitness > parent1.fitness:\n",
    "        child1 = parent1\n",
    "    if child1.fitness > parent2.fitness:\n",
    "        child1 = parent2\n",
    "        "
   ]
  },
  {
   "cell_type": "code",
   "execution_count": 6,
   "metadata": {},
   "outputs": [],
   "source": [
    "mentoriZauzetost = [2, 3, 2, 1, 3]\n",
    "zeljeStudenata = [\n",
    "    [0, 1, 2,3, 4],\n",
    "    [2, 3,2, 0, 1],\n",
    "    [0, 2,4, 1, 3],\n",
    "    [2, 4,3,0, 1],\n",
    "    [4, 3,1, 0, 2],\n",
    "    [1,4, 2,3, 0],\n",
    "    [0, 1, 2,3, 4],\n",
    "    [2, 3,2, 0, 1],\n",
    "    [0, 2,4, 1, 3],\n",
    "    [2, 4,3,0, 1],\n",
    "    [0,2,3, 4,1]\n",
    "    \n",
    "]\n"
   ]
  },
  {
   "cell_type": "code",
   "execution_count": 7,
   "metadata": {},
   "outputs": [
    {
     "name": "stdout",
     "output_type": "stream",
     "text": [
      "najbolje resenje je:\n",
      "[(10, 0), (8, 0), (2, 1), (6, 1), (0, 1), (7, 2), (4, 2), (1, 3), (5, 4), (3, 4), (9, 4)]\n",
      "9\n"
     ]
    }
   ],
   "source": [
    "population_size = 512\n",
    "mutation_rate = 0.1\n",
    "tournament_size = 6\n",
    "max_iter = 9\n",
    "elitism_size = 20\n",
    "population = [Individual(mentoriZauzetost, zeljeStudenata) for _ in range(population_size)]\n",
    "# for i in range(population_size):\n",
    "#     print(population[i].code)\n",
    "new_population = []\n",
    "for iteration in range(max_iter):\n",
    "    population.sort()\n",
    "    new_population = []\n",
    "    if population[0].fitness == 0:\n",
    "        print(\"Svakom studentu je ispunjena prva zelja!\")\n",
    "        break\n",
    "    for i in range(elitism_size):\n",
    "        new_population.append(population[i])\n",
    "    for i in range(elitism_size, population_size, 2):\n",
    "        p1 = selection(population, tournament_size)\n",
    "        p2 = selection(population, tournament_size)\n",
    "        \n",
    "        child = Individual(mentoriZauzetost, zeljeStudenata)\n",
    "        crossover(population[p1], population[p2], child)\n",
    "        \n",
    "        mutation(child, mutation_rate)\n",
    "        \n",
    "        child.fitness = child.fitnessFunction()\n",
    "        new_population.append(child)\n",
    "    population = new_population\n",
    "\n",
    "population.sort()\n",
    "\n",
    "print(\"najbolje resenje je:\")\n",
    "print(population[0].code)\n",
    "print(population[0].fitness)\n",
    "    "
   ]
  },
  {
   "cell_type": "code",
   "execution_count": null,
   "metadata": {},
   "outputs": [],
   "source": []
  },
  {
   "cell_type": "code",
   "execution_count": null,
   "metadata": {},
   "outputs": [],
   "source": []
  },
  {
   "cell_type": "code",
   "execution_count": null,
   "metadata": {},
   "outputs": [],
   "source": []
  },
  {
   "cell_type": "code",
   "execution_count": null,
   "metadata": {},
   "outputs": [],
   "source": []
  }
 ],
 "metadata": {
  "kernelspec": {
   "display_name": "Python 3",
   "language": "python",
   "name": "python3"
  },
  "language_info": {
   "codemirror_mode": {
    "name": "ipython",
    "version": 3
   },
   "file_extension": ".py",
   "mimetype": "text/x-python",
   "name": "python",
   "nbconvert_exporter": "python",
   "pygments_lexer": "ipython3",
   "version": "3.8.5"
  }
 },
 "nbformat": 4,
 "nbformat_minor": 4
}
